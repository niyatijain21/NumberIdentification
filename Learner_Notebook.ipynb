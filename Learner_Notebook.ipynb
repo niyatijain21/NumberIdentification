{
 "cells": [
  {
   "cell_type": "markdown",
   "metadata": {
    "id": "1oAxnGOmkOTS"
   },
   "source": [
    "# Neural Network from Scratch in TensorFlow"
   ]
  },
  {
   "cell_type": "markdown",
   "metadata": {
    "id": "ctkw_gW6kOTT"
   },
   "source": [
    "# Task 1: Introduction and Importing Libraries"
   ]
  },
  {
   "cell_type": "code",
   "execution_count": 1,
   "metadata": {
    "colab": {
     "base_uri": "https://localhost:8080/"
    },
    "id": "VDtJ_YzRkZtF",
    "outputId": "553b306b-ffc4-4b6f-d6a2-147447996c01"
   },
   "outputs": [
    {
     "name": "stdout",
     "output_type": "stream",
     "text": [
      "Requirement already satisfied: nn_utils in c:\\users\\niyati jain\\appdata\\local\\programs\\python\\python38-32\\lib\\site-packages (0.1.0)\n",
      "Requirement already satisfied: numpy>=0.1.4 in c:\\users\\niyati jain\\appdata\\local\\programs\\python\\python38-32\\lib\\site-packages (from nn_utils) (1.19.1)\n"
     ]
    }
   ],
   "source": [
    "!pip install nn_utils"
   ]
  },
  {
   "cell_type": "code",
   "execution_count": 4,
   "metadata": {},
   "outputs": [
    {
     "name": "stdout",
     "output_type": "stream",
     "text": [
      "Requirement already up-to-date: pip in c:\\users\\niyati jain\\appdata\\local\\programs\\python\\python38-32\\lib\\site-packages (20.2.4)\n"
     ]
    }
   ],
   "source": [
    "!pip install --upgrade pip"
   ]
  },
  {
   "cell_type": "code",
   "execution_count": 10,
   "metadata": {},
   "outputs": [
    {
     "name": "stderr",
     "output_type": "stream",
     "text": [
      "ERROR: Could not find a version that satisfies the requirement tensorflow (from versions: none)\n",
      "ERROR: No matching distribution found for tensorflow\n"
     ]
    }
   ],
   "source": [
    "!pip install tensorflow"
   ]
  },
  {
   "cell_type": "code",
   "execution_count": 5,
   "metadata": {
    "colab": {
     "base_uri": "https://localhost:8080/"
    },
    "id": "SSCRLaTEkOTT",
    "outputId": "ba4909d2-669e-4594-feb1-36c0c706c31c"
   },
   "outputs": [
    {
     "ename": "ModuleNotFoundError",
     "evalue": "No module named 'tensorflow'",
     "output_type": "error",
     "traceback": [
      "\u001b[1;31m---------------------------------------------------------------------------\u001b[0m",
      "\u001b[1;31mModuleNotFoundError\u001b[0m                       Traceback (most recent call last)",
      "\u001b[1;32m<ipython-input-5-619f3ba7e81f>\u001b[0m in \u001b[0;36m<module>\u001b[1;34m\u001b[0m\n\u001b[1;32m----> 1\u001b[1;33m \u001b[1;32mimport\u001b[0m \u001b[0mtensorflow\u001b[0m \u001b[1;32mas\u001b[0m \u001b[0mtf\u001b[0m\u001b[1;33m\u001b[0m\u001b[1;33m\u001b[0m\u001b[0m\n\u001b[0m\u001b[0;32m      2\u001b[0m \u001b[1;32mimport\u001b[0m \u001b[0mnumpy\u001b[0m \u001b[1;32mas\u001b[0m \u001b[0mnp\u001b[0m\u001b[1;33m\u001b[0m\u001b[1;33m\u001b[0m\u001b[0m\n\u001b[0;32m      3\u001b[0m \u001b[1;32mimport\u001b[0m \u001b[0mmatplotlib\u001b[0m\u001b[1;33m.\u001b[0m\u001b[0mpyplot\u001b[0m \u001b[1;32mas\u001b[0m \u001b[0mplt\u001b[0m\u001b[1;33m\u001b[0m\u001b[1;33m\u001b[0m\u001b[0m\n\u001b[0;32m      4\u001b[0m \u001b[1;32mimport\u001b[0m \u001b[0mnn_utils\u001b[0m\u001b[1;33m\u001b[0m\u001b[1;33m\u001b[0m\u001b[0m\n\u001b[0;32m      5\u001b[0m \u001b[0mget_ipython\u001b[0m\u001b[1;33m(\u001b[0m\u001b[1;33m)\u001b[0m\u001b[1;33m.\u001b[0m\u001b[0mrun_line_magic\u001b[0m\u001b[1;33m(\u001b[0m\u001b[1;34m'matplotlib'\u001b[0m\u001b[1;33m,\u001b[0m \u001b[1;34m'inline'\u001b[0m\u001b[1;33m)\u001b[0m\u001b[1;33m\u001b[0m\u001b[1;33m\u001b[0m\u001b[0m\n",
      "\u001b[1;31mModuleNotFoundError\u001b[0m: No module named 'tensorflow'"
     ]
    }
   ],
   "source": [
    "import tensorflow as tf\n",
    "import numpy as np\n",
    "import matplotlib.pyplot as plt\n",
    "import nn_utils\n",
    "%matplotlib inline\n",
    "\n",
    "print('TensorFlow Version:', tf.__version__)"
   ]
  },
  {
   "cell_type": "markdown",
   "metadata": {
    "id": "wj2CPbJ4kOTY"
   },
   "source": [
    "# Task 2: Initializing Neural Network"
   ]
  },
  {
   "cell_type": "code",
   "execution_count": null,
   "metadata": {
    "id": "z11MTZwSkOTZ"
   },
   "outputs": [],
   "source": [
    "class NeuralNetwork:\n",
    "    def __init__(self, layers):\n",
    "        self.layers = layers\n",
    "        self.L = len(layers)\n",
    "        self.num_features = layers[0]\n",
    "        self.num_classes = layers[-1]\n",
    "        \n",
    "        self.W = {}\n",
    "        self.b = {}\n",
    "        \n",
    "        self.dW = {}\n",
    "        self.db = {}\n",
    "        \n",
    "        self.setup()\n",
    "        \n",
    "    def setup(self):\n",
    "        self.W[i]=tf.Variable(tf.random.normal(shape=(self.layers[i], self.layers[i-1])))\n",
    "        self.b[i]=tf.Variable(tf.random.normal(shape=(self.layers[i], 1)))"
   ]
  },
  {
   "cell_type": "markdown",
   "metadata": {
    "id": "6aWHQUVjkOTb"
   },
   "source": [
    "# Task 3: Forward Pass"
   ]
  },
  {
   "cell_type": "code",
   "execution_count": null,
   "metadata": {
    "id": "PkCIQYWIkOTc"
   },
   "outputs": [],
   "source": [
    "class NeuralNetwork(NeuralNetwork):\n",
    "    def forward_pass(self, X):\n",
    "      A=tf.convert_to_tensor(X, dtype=tf.float32)\n",
    "      for i in range(1, self.L):\n",
    "        Z=tf.matmul(A, tf.transpose(self.W[i])) + tf.transpose(self.b[i])\n",
    "        if i!=self.L-1:\n",
    "          A=tf.nn.relu(Z)\n",
    "        else:\n",
    "          A=Z\n",
    "      return A"
   ]
  },
  {
   "cell_type": "markdown",
   "metadata": {
    "id": "UNPGF60zkOTg"
   },
   "source": [
    "# Task 4: Computing Loss and Updating Parameters"
   ]
  },
  {
   "cell_type": "code",
   "execution_count": null,
   "metadata": {
    "id": "dfyaIk07kOTg"
   },
   "outputs": [],
   "source": [
    "class NeuralNetwork(NeuralNetwork):\n",
    "    def compute_loss(self, A, Y):\n",
    "      loss=tf.nn.softmax_cross_entropy_with_logits(Y,A)\n",
    "      return tf.reduce_mean(loss)\n",
    "\n",
    "    def update_params(self, lr):\n",
    "      for i in range(1, self.L):\n",
    "        self.W[i].assign_sub(lr*self.dW[i])\n",
    "        self.b[i].assign_sub(lr*self.db[i])"
   ]
  },
  {
   "cell_type": "markdown",
   "metadata": {
    "id": "9BybPIx-kOTj"
   },
   "source": [
    "# Task 5: Predict and Info Functions"
   ]
  },
  {
   "cell_type": "code",
   "execution_count": null,
   "metadata": {
    "id": "B_h_E4-QkOTk"
   },
   "outputs": [],
   "source": [
    "class NeuralNetwork(NeuralNetwork):\n",
    "    def predict(self, X):\n",
    "        A= self.forward_pass(X)\n",
    "        return tf.argmax(tf.nn.softmax(A), axis=1)\n",
    "    \n",
    "    def info(self):\n",
    "        num_params = 0\n",
    "        for i in range(1, self.L):\n",
    "            num_params += self.W[i].shape[0] * self.W[i].shape[1]\n",
    "            num_params += self.b[i].shape[0]\n",
    "        print('Input Features:', self.num_features)\n",
    "        print('Number of Classes:', self.num_classes)\n",
    "        print('Hidden Layers:')\n",
    "        print('--------------')\n",
    "        for i in range(1, self.L-1):\n",
    "            print('Layer {}, Units {}'.format(i, self.layers[i]))\n",
    "        print('--------------')\n",
    "        print('Number of parameters:', num_params)"
   ]
  },
  {
   "cell_type": "markdown",
   "metadata": {
    "id": "k0wVXsGwkOTn"
   },
   "source": [
    "# Task 6: Training on Batch"
   ]
  },
  {
   "cell_type": "code",
   "execution_count": null,
   "metadata": {
    "id": "sVV44xBKkOTo"
   },
   "outputs": [],
   "source": [
    "class NeuralNetwork(NeuralNetwork):\n",
    "    def train_on_batch(self, X, Y, lr):\n",
    "        X=tf.convert_to_tensor(X, dtype=tf.float32)\n",
    "        Y=tf.convert_to_tensor(Y, dtype=tf.float32)\n",
    "\n",
    "        with tf.GradientTape(persistent=True) as tape:\n",
    "          A=self.forward_pass(X)\n",
    "          loss=self.compute_loss(A,Y)\n",
    "        for i in range(1,self.L):\n",
    "          self.dW[i]=tape.gradient(loss,self.W[i])\n",
    "          self.db[i]=tape.gradient(loss,self.b[i])\n",
    "    \n",
    "        del tape\n",
    "        self.update_params(lr)\n",
    "        return loss.numpy()"
   ]
  },
  {
   "cell_type": "markdown",
   "metadata": {
    "id": "Pz5Qxr86kOTr"
   },
   "source": [
    "# Task 7: Training on Complete Set"
   ]
  },
  {
   "cell_type": "code",
   "execution_count": null,
   "metadata": {
    "id": "enYNsEodkOTs"
   },
   "outputs": [],
   "source": [
    "class NeuralNetwork(NeuralNetwork):\n",
    "    def train(self, x_train, y_train, x_test, y_test, epochs, steps_per_epoch, batch_size, lr):\n",
    "        history = {\n",
    "            'val_loss' : [],\n",
    "            'train_loss': [],\n",
    "            'val_acc': []\n",
    "        }\n",
    "\n",
    "        for e in range(0, epochs):\n",
    "          epoch_train_loss=0.\n",
    "          print('Epoch {}'.format(e), end='.')\n",
    "          for i in range(0, steps_per_epoch):\n",
    "            x_batch= x_train[i*batch_size: (i+1)*batch_size]\n",
    "            y_batch= y_train[i*batch_size: (i+1)*batch_size]\n",
    "\n",
    "            batch_loss= self.train_on_batch(x_batch, y_batch, lr)\n",
    "            epoch_train_loss += batch_loss\n",
    "\n",
    "            if i%int(steps_per_epoch/10) == 0:\n",
    "              print(end='.')\n",
    "\n",
    "          history['train_loss'].append(epoch_train_loss/steps_per_epoch)\n",
    "          val_A=self.forward_pass(x_test)\n",
    "          val_loss= self.compute_loss(val_A, y_test).numpy()\n",
    "          history['val_loss'].append(val_loss)\n",
    "          val_preds=self.predict(x_test)\n",
    "          val_acc=np.mean(np.argmax(y_test, axis=1) == val_preds.numpy())\n",
    "          history['val_acc'].append(val_acc)\n",
    "          print('Val acc:', val_acc)\n",
    "\n",
    "        return history"
   ]
  },
  {
   "cell_type": "markdown",
   "metadata": {
    "id": "kTjIInBZkOTv"
   },
   "source": [
    "# Task 8: Application"
   ]
  },
  {
   "cell_type": "code",
   "execution_count": null,
   "metadata": {
    "colab": {
     "base_uri": "https://localhost:8080/",
     "height": 204
    },
    "id": "0gURVMKbkOTv",
    "outputId": "62894352-7d3f-41fe-9512-d09d6efbda13"
   },
   "outputs": [],
   "source": [
    "dataset1= tf.nn_utils\n",
    "(x_train, y_train), (x_test, y_test)= nn_utils.load_data()\n",
    "nn_utils.plot_random_examples(x_train, y_train).show()"
   ]
  },
  {
   "cell_type": "code",
   "execution_count": null,
   "metadata": {
    "id": "b4zVcXtqkOTy"
   },
   "outputs": [],
   "source": [
    "net=neuralNetwork([784, 128,128, 10])\n",
    "net.info()"
   ]
  },
  {
   "cell_type": "code",
   "execution_count": null,
   "metadata": {
    "id": "N1v-MQRfkOT1"
   },
   "outputs": [],
   "source": [
    "batch_size=120\n",
    "epochs=5\n",
    "steps_per_epoch= int(x_train.shape[0]/batch_size)\n",
    "lr=3e-3\n",
    "print('steps per epoch', steps per epoch)"
   ]
  },
  {
   "cell_type": "code",
   "execution_count": null,
   "metadata": {
    "id": "4KqhCBJJkOT3"
   },
   "outputs": [],
   "source": [
    "history=net.train(\n",
    "    x_train, y_train,\n",
    "    x_test, y_test,\n",
    "    epochs, steps_per_epoch,\n",
    "    batch_size, lr\n",
    ")"
   ]
  },
  {
   "cell_type": "markdown",
   "metadata": {
    "id": "47OcIiwakOT5"
   },
   "source": [
    "# Task 9: Results"
   ]
  },
  {
   "cell_type": "code",
   "execution_count": null,
   "metadata": {
    "id": "QjSN1sJjkOT6"
   },
   "outputs": [],
   "source": [
    "nn_utils.plot_results(history).show()"
   ]
  },
  {
   "cell_type": "code",
   "execution_count": null,
   "metadata": {
    "id": "yS0FqayekOT9"
   },
   "outputs": [],
   "source": [
    "preds=net_predict(x_test)"
   ]
  },
  {
   "cell_type": "code",
   "execution_count": null,
   "metadata": {
    "id": "GJ45LQI5kOT_"
   },
   "outputs": [],
   "source": [
    "nn_utils.plot_randoom_examples(x_test, y_test, preds.numpy())"
   ]
  },
  {
   "cell_type": "code",
   "execution_count": null,
   "metadata": {
    "id": "2nVKJkq2kOUB"
   },
   "outputs": [],
   "source": []
  }
 ],
 "metadata": {
  "colab": {
   "name": "Learner Notebook.ipynb",
   "provenance": [],
   "toc_visible": true
  },
  "kernelspec": {
   "display_name": "Python 3",
   "language": "python",
   "name": "python3"
  },
  "language_info": {
   "codemirror_mode": {
    "name": "ipython",
    "version": 3
   },
   "file_extension": ".py",
   "mimetype": "text/x-python",
   "name": "python",
   "nbconvert_exporter": "python",
   "pygments_lexer": "ipython3",
   "version": "3.8.5"
  }
 },
 "nbformat": 4,
 "nbformat_minor": 1
}
